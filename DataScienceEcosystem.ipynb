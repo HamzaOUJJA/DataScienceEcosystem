{
  "metadata": {
    "kernelspec": {
      "name": "python",
      "display_name": "Python (Pyodide)",
      "language": "python"
    },
    "language_info": {
      "codemirror_mode": {
        "name": "python",
        "version": 3
      },
      "file_extension": ".py",
      "mimetype": "text/x-python",
      "name": "python",
      "nbconvert_exporter": "python",
      "pygments_lexer": "ipython3",
      "version": "3.8"
    }
  },
  "nbformat_minor": 5,
  "nbformat": 4,
  "cells": [
    {
      "id": "4f372823-a049-4e06-bd9a-01eb26720ced",
      "cell_type": "markdown",
      "source": "# Data Science Tools and Ecosystem",
      "metadata": {}
    },
    {
      "id": "e73e9526-5160-4221-b851-e07603107efb",
      "cell_type": "markdown",
      "source": "In this notebook, Data Science Tools and Ecosystem are summarized.",
      "metadata": {}
    },
    {
      "id": "119cd9e3-1889-41b2-a70c-5d2bc22d2b89",
      "cell_type": "markdown",
      "source": "Some of the popular languages that Data Scientists use are:\n1.  Python\n2.  R\n3.  SQL\n4.  Julia\n5.  Scala",
      "metadata": {}
    },
    {
      "id": "10b25506-654a-4bde-937d-ad32fdfd4363",
      "cell_type": "markdown",
      "source": "Some of the commonly used libraries used by Data Scientists include:\n\n1.  Pandas\n2.  NumPy\n3.  Matplotlib\n4.  TensorFlow\n5.  SciPy",
      "metadata": {}
    },
    {
      "id": "c3c3bced-4cec-4acd-ae20-3ebf7aa9ba2d",
      "cell_type": "markdown",
      "source": "Data Science Tools\n\n| Tool              \n|-------------------\n| Jupyter Notebook  \n| RStudio         \n| Apache Spark   ",
      "metadata": {}
    },
    {
      "id": "0ee1a7b2-719e-4d8f-ad46-57da8d404118",
      "cell_type": "markdown",
      "source": "Below are a few examples of evaluating arithmetic expressions in Python.",
      "metadata": {}
    },
    {
      "id": "29c8f3a8-87af-4f28-b477-f8b573328f33",
      "cell_type": "code",
      "source": "# This is a simple arithmetic expression to multiply then add integers\n(3 * 4) + 5",
      "metadata": {
        "trusted": true
      },
      "outputs": [
        {
          "execution_count": 6,
          "output_type": "execute_result",
          "data": {
            "text/plain": "17"
          },
          "metadata": {}
        }
      ],
      "execution_count": 6
    },
    {
      "id": "8f8d2d76-3d7a-48bc-a071-501f0707a048",
      "cell_type": "code",
      "source": "# This will convert 200 minutes to hours by dividing by 60\nminutes = 200\nhours = minutes / 60\nhours",
      "metadata": {
        "trusted": true
      },
      "outputs": [
        {
          "execution_count": 7,
          "output_type": "execute_result",
          "data": {
            "text/plain": "3.3333333333333335"
          },
          "metadata": {}
        }
      ],
      "execution_count": 7
    },
    {
      "id": "74ed3792-40c3-4897-b6a0-43a400d39ce1",
      "cell_type": "markdown",
      "source": "## Objectives\n\nIn this notebook we will:\n- List popular languages for Data Science\n- List commonly used libraries\n- Create a table of data science tools\n- Perform basic arithmetic operations using Python\n- Convert minutes to hours using Python code",
      "metadata": {}
    },
    {
      "id": "c856adb1-0954-4ea5-b074-89822e3c3488",
      "cell_type": "markdown",
      "source": "## Author: \nHamza OUJJA",
      "metadata": {}
    },
    {
      "id": "5f83f24b-1646-408b-b99d-39956e7e2400",
      "cell_type": "code",
      "source": "",
      "metadata": {
        "trusted": true
      },
      "outputs": [],
      "execution_count": null
    }
  ]
}